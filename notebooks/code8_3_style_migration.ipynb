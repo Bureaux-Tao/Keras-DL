{
 "cells": [
  {
   "cell_type": "code",
   "execution_count": 22,
   "metadata": {
    "collapsed": true
   },
   "outputs": [],
   "source": [
    "from keras.preprocessing.image import load_img, img_to_array\n",
    "import numpy as np\n",
    "from keras.applications import vgg19\n",
    "from keras import backend as K\n",
    "from scipy.optimize import fmin_l_bfgs_b\n",
    "import imageio\n",
    "import time\n",
    "from matplotlib import pyplot as plt\n",
    "import keras\n",
    "import pydot"
   ]
  },
  {
   "cell_type": "code",
   "execution_count": 23,
   "outputs": [
    {
     "name": "stdout",
     "output_type": "stream",
     "text": [
      "251 252\n"
     ]
    }
   ],
   "source": [
    "# 想要变换的图像的路径\n",
    "target_image_path = '../data/portrait.png'\n",
    "# This is the path to the style image.（风格图像的路径）\n",
    "style_reference_image_path = '../data/popova.png'\n",
    "width, height = load_img(target_image_path).size\n",
    "print(width, height)\n",
    "img_height = 400\n",
    "img_width = int(width * img_height / height)"
   ],
   "metadata": {
    "collapsed": false,
    "pycharm": {
     "name": "#%%\n"
    }
   }
  },
  {
   "cell_type": "code",
   "execution_count": 24,
   "outputs": [],
   "source": [
    "def preprocess_image(image_path):\n",
    "    img = load_img(image_path, target_size=(img_height, img_width))  # 加载图像，归一化大小\n",
    "    img = img_to_array(img)  # 序列化\n",
    "    img = np.expand_dims(img, axis=0)  # 展开\n",
    "    img = vgg19.preprocess_input(img)  # 预处理到0～1\n",
    "    return img"
   ],
   "metadata": {
    "collapsed": false,
    "pycharm": {
     "name": "#%%\n"
    }
   }
  },
  {
   "cell_type": "code",
   "execution_count": 25,
   "outputs": [],
   "source": [
    "def deprocess_image(x):\n",
    "    # vgg19.preprocess_input 的作用是减去 ImageNet 的平均像素值， 使其中心为 0。\n",
    "    # 这里相当于 vgg19.preprocess_input 的逆操作\n",
    "    x[:, :, 0] += 103.939\n",
    "    x[:, :, 1] += 116.779\n",
    "    x[:, :, 2] += 123.68\n",
    "    # 'BGR'->'RGB'（将图像由 BGR 格式转换为 RGB 格式。这也是vgg19.preprocess_input 逆操作的一部分）\n",
    "    x = x[:, :, ::-1]\n",
    "    x = np.clip(x, 0, 255).astype('uint8')\n",
    "    return x"
   ],
   "metadata": {
    "collapsed": false,
    "pycharm": {
     "name": "#%%\n"
    }
   }
  },
  {
   "cell_type": "code",
   "execution_count": 26,
   "outputs": [
    {
     "name": "stdout",
     "output_type": "stream",
     "text": [
      "(1, 400, 398, 3)\n",
      "(1, 400, 398, 3)\n",
      "(1, 400, 398, 3)\n",
      "(3, 400, 398, 3)\n"
     ]
    }
   ],
   "source": [
    "target_image = K.constant(preprocess_image(target_image_path))\n",
    "print(target_image.shape)\n",
    "style_reference_image = K.constant(preprocess_image(style_reference_image_path))\n",
    "print(style_reference_image.shape)\n",
    "combination_image = K.placeholder((1, img_height, img_width, 3))\n",
    "print(combination_image.shape)\n",
    "# 将三张图像合并为一个批量\n",
    "input_tensor = K.concatenate([target_image,\n",
    "                              style_reference_image,\n",
    "                              combination_image], axis=0)\n",
    "print(input_tensor.shape)"
   ],
   "metadata": {
    "collapsed": false,
    "pycharm": {
     "name": "#%%\n"
    }
   }
  },
  {
   "cell_type": "code",
   "execution_count": 27,
   "outputs": [
    {
     "name": "stdout",
     "output_type": "stream",
     "text": [
      "Model loaded.\n"
     ]
    }
   ],
   "source": [
    "model = vgg19.VGG19(input_tensor=input_tensor,\n",
    "                    weights='imagenet',\n",
    "                    include_top=False)\n",
    "print('Model loaded.')"
   ],
   "metadata": {
    "collapsed": false,
    "pycharm": {
     "name": "#%%\n"
    }
   }
  },
  {
   "cell_type": "code",
   "execution_count": 28,
   "outputs": [],
   "source": [
    "# 定义内容损失\n",
    "# 它要保证目标图像和生成图像在 VGG19 卷积神经网络的顶层具有相似的结果\n",
    "# 平方和\n",
    "def content_loss(base, combination):\n",
    "    return K.sum(K.square(combination - base))\n",
    "    # sum:计算张量在某一指定轴的和\n",
    "    # square:元素级的平方操作"
   ],
   "metadata": {
    "collapsed": false,
    "pycharm": {
     "name": "#%%\n"
    }
   }
  },
  {
   "cell_type": "code",
   "execution_count": 29,
   "outputs": [],
   "source": [
    "\n",
    "def gram_matrix(x):\n",
    "    features = K.batch_flatten(K.permute_dimensions(x, (2, 0, 1)))\n",
    "    # 它将批次中的每一个样本展平。\n",
    "    print('batch_flatten:', features.shape)\n",
    "    gram = K.dot(features, K.transpose(features))\n",
    "    # transpose:将张量转置并返回\n",
    "    # dot:将 2 个张量（和/或变量）相乘并返回一个张量\n",
    "    print('dot', gram.shape)\n",
    "    return gram"
   ],
   "metadata": {
    "collapsed": false,
    "pycharm": {
     "name": "#%%\n"
    }
   }
  },
  {
   "cell_type": "code",
   "execution_count": 30,
   "outputs": [],
   "source": [
    "# 风格损失\n",
    "def style_loss(style, combination):\n",
    "    S = gram_matrix(style)\n",
    "    C = gram_matrix(combination)\n",
    "    channels = 3\n",
    "    size = img_height * img_width\n",
    "    return K.sum(K.square(S - C)) / (4. * (channels ** 2) * (size ** 2))"
   ],
   "metadata": {
    "collapsed": false,
    "pycharm": {
     "name": "#%%\n"
    }
   }
  },
  {
   "cell_type": "code",
   "execution_count": 31,
   "outputs": [],
   "source": [
    "# 总变差损失(正则化损失)\n",
    "def total_variation_loss(x):\n",
    "    a = K.square(\n",
    "        x[:, :img_height - 1, :img_width - 1, :] - x[:, 1:, :img_width - 1, :])\n",
    "    b = K.square(\n",
    "        x[:, :img_height - 1, :img_width - 1, :] - x[:, :img_height - 1, 1:, :])\n",
    "    return K.sum(K.pow(a + b, 1.25))"
   ],
   "metadata": {
    "collapsed": false,
    "pycharm": {
     "name": "#%%\n"
    }
   }
  },
  {
   "cell_type": "code",
   "execution_count": 32,
   "outputs": [
    {
     "name": "stdout",
     "output_type": "stream",
     "text": [
      "_________________________________________________________________\n",
      "Layer (type)                 Output Shape              Param #   \n",
      "=================================================================\n",
      "input_3 (InputLayer)         (None, None, None, 3)     0         \n",
      "_________________________________________________________________\n",
      "block1_conv1 (Conv2D)        (None, None, None, 64)    1792      \n",
      "_________________________________________________________________\n",
      "block1_conv2 (Conv2D)        (None, None, None, 64)    36928     \n",
      "_________________________________________________________________\n",
      "block1_pool (MaxPooling2D)   (None, None, None, 64)    0         \n",
      "_________________________________________________________________\n",
      "block2_conv1 (Conv2D)        (None, None, None, 128)   73856     \n",
      "_________________________________________________________________\n",
      "block2_conv2 (Conv2D)        (None, None, None, 128)   147584    \n",
      "_________________________________________________________________\n",
      "block2_pool (MaxPooling2D)   (None, None, None, 128)   0         \n",
      "_________________________________________________________________\n",
      "block3_conv1 (Conv2D)        (None, None, None, 256)   295168    \n",
      "_________________________________________________________________\n",
      "block3_conv2 (Conv2D)        (None, None, None, 256)   590080    \n",
      "_________________________________________________________________\n",
      "block3_conv3 (Conv2D)        (None, None, None, 256)   590080    \n",
      "_________________________________________________________________\n",
      "block3_conv4 (Conv2D)        (None, None, None, 256)   590080    \n",
      "_________________________________________________________________\n",
      "block3_pool (MaxPooling2D)   (None, None, None, 256)   0         \n",
      "_________________________________________________________________\n",
      "block4_conv1 (Conv2D)        (None, None, None, 512)   1180160   \n",
      "_________________________________________________________________\n",
      "block4_conv2 (Conv2D)        (None, None, None, 512)   2359808   \n",
      "_________________________________________________________________\n",
      "block4_conv3 (Conv2D)        (None, None, None, 512)   2359808   \n",
      "_________________________________________________________________\n",
      "block4_conv4 (Conv2D)        (None, None, None, 512)   2359808   \n",
      "_________________________________________________________________\n",
      "block4_pool (MaxPooling2D)   (None, None, None, 512)   0         \n",
      "_________________________________________________________________\n",
      "block5_conv1 (Conv2D)        (None, None, None, 512)   2359808   \n",
      "_________________________________________________________________\n",
      "block5_conv2 (Conv2D)        (None, None, None, 512)   2359808   \n",
      "_________________________________________________________________\n",
      "block5_conv3 (Conv2D)        (None, None, None, 512)   2359808   \n",
      "_________________________________________________________________\n",
      "block5_conv4 (Conv2D)        (None, None, None, 512)   2359808   \n",
      "_________________________________________________________________\n",
      "block5_pool (MaxPooling2D)   (None, None, None, 512)   0         \n",
      "=================================================================\n",
      "Total params: 20,024,384\n",
      "Trainable params: 20,024,384\n",
      "Non-trainable params: 0\n",
      "_________________________________________________________________\n"
     ]
    }
   ],
   "source": [
    "model.summary()\n",
    "keras.utils.vis_utils.pydot = pydot\n",
    "keras.utils.plot_model(model,show_shapes=True,to_file='../images/vgg19.png')"
   ],
   "metadata": {
    "collapsed": false,
    "pycharm": {
     "name": "#%%\n"
    }
   }
  },
  {
   "cell_type": "code",
   "execution_count": 33,
   "outputs": [
    {
     "name": "stdout",
     "output_type": "stream",
     "text": [
      "WARNING:tensorflow:Variable += will be deprecated. Use variable.assign_add if you want assignment to the variable value or 'x = x + y' if you want a new python Tensor object.\n",
      "batch_flatten: (64, 159200)\n",
      "dot (64, 64)\n",
      "batch_flatten: (64, 159200)\n",
      "dot (64, 64)\n",
      "batch_flatten: (128, 39800)\n",
      "dot (128, 128)\n",
      "batch_flatten: (128, 39800)\n",
      "dot (128, 128)\n",
      "batch_flatten: (256, 9900)\n",
      "dot (256, 256)\n",
      "batch_flatten: (256, 9900)\n",
      "dot (256, 256)\n",
      "batch_flatten: (512, 2450)\n",
      "dot (512, 512)\n",
      "batch_flatten: (512, 2450)\n",
      "dot (512, 512)\n",
      "batch_flatten: (512, 600)\n",
      "dot (512, 512)\n",
      "batch_flatten: (512, 600)\n",
      "dot (512, 512)\n"
     ]
    }
   ],
   "source": [
    "outputs_dict = dict([(layer.name, layer.output) for layer in model.layers])\n",
    "# 用于内容损失的层\n",
    "content_layer = 'block5_conv2'\n",
    "# 用于风格损失的层\n",
    "style_layers = ['block1_conv1',\n",
    "                'block2_conv1',\n",
    "                'block3_conv1',\n",
    "                'block4_conv1',\n",
    "                'block5_conv1']\n",
    "total_variation_weight = 1e-4\n",
    "style_weight = 1.\n",
    "content_weight = 0.025\n",
    "\n",
    "# 在定义损失时将所有分量添加到这个标量变量中\n",
    "loss = K.variable(0.)\n",
    "layer_features = outputs_dict[content_layer]\n",
    "target_image_features = layer_features[0, :, :, :]\n",
    "combination_features = layer_features[2, :, :, :]\n",
    "loss += content_weight * content_loss(target_image_features,\n",
    "                                      combination_features)\n",
    "for layer_name in style_layers: #添加每个目标层的风格损失分量\n",
    "    layer_features = outputs_dict[layer_name]\n",
    "    style_reference_features = layer_features[1, :, :, :]\n",
    "    combination_features = layer_features[2, :, :, :]\n",
    "    sl = style_loss(style_reference_features, combination_features)\n",
    "    loss += (style_weight / len(style_layers)) * sl\n",
    "loss += total_variation_weight * total_variation_loss(combination_image)"
   ],
   "metadata": {
    "collapsed": false,
    "pycharm": {
     "name": "#%%\n"
    }
   }
  },
  {
   "cell_type": "code",
   "execution_count": 34,
   "outputs": [
    {
     "name": "stdout",
     "output_type": "stream",
     "text": [
      "WARNING:tensorflow:From /Users/Bureaux/opt/miniconda3/envs/AI-base/lib/python3.7/site-packages/tensorflow/python/ops/math_grad.py:1205: add_dispatch_support.<locals>.wrapper (from tensorflow.python.ops.array_ops) is deprecated and will be removed in a future version.\n",
      "Instructions for updating:\n",
      "Use tf.where in 2.0, which has the same broadcast rule as np.where\n"
     ]
    }
   ],
   "source": [
    "grads = K.gradients(loss, combination_image)[0]\n",
    "# 返回 combination_image 在 loss 上的梯度\n",
    "\n",
    "fetch_loss_and_grads = K.function([combination_image], [loss, grads])\n",
    "# 实例化 Keras 函数\n",
    "\n",
    "class Evaluator(object):\n",
    "\n",
    "    def __init__(self):\n",
    "        self.loss_value = None\n",
    "        self.grad_values = None\n",
    "\n",
    "    def loss(self, x):\n",
    "        assert self.loss_value is None\n",
    "        x = x.reshape((1, img_height, img_width, 3))\n",
    "        outs = fetch_loss_and_grads([x])\n",
    "        loss_value = outs[0]\n",
    "        grad_values = outs[1].flatten().astype('float64')\n",
    "        self.loss_value = loss_value\n",
    "        self.grad_values = grad_values\n",
    "        return self.loss_value\n",
    "\n",
    "    def grads(self, x):\n",
    "        assert self.loss_value is not None\n",
    "        grad_values = np.copy(self.grad_values)\n",
    "        self.loss_value = None\n",
    "        self.grad_values = None\n",
    "        return grad_values\n",
    "\n",
    "evaluator = Evaluator()"
   ],
   "metadata": {
    "collapsed": false,
    "pycharm": {
     "name": "#%%\n"
    }
   }
  },
  {
   "cell_type": "code",
   "execution_count": 36,
   "outputs": [
    {
     "name": "stdout",
     "output_type": "stream",
     "text": [
      "(1, 400, 398, 3)\n",
      "(477600,)\n",
      "Start of iteration 0\n",
      "Current loss value: 9388130000.0\n",
      "Image saved as ../images/style_transfer_result/at_iteration_0.png\n",
      "Iteration 0 completed in 99s\n",
      "Start of iteration 1\n",
      "Current loss value: 3512242200.0\n",
      "Image saved as ../images/style_transfer_result/at_iteration_1.png\n",
      "Iteration 1 completed in 106s\n",
      "Start of iteration 2\n",
      "Current loss value: 2266319600.0\n",
      "Image saved as ../images/style_transfer_result/at_iteration_2.png\n",
      "Iteration 2 completed in 109s\n",
      "Start of iteration 3\n",
      "Current loss value: 1760910500.0\n",
      "Image saved as ../images/style_transfer_result/at_iteration_3.png\n",
      "Iteration 3 completed in 111s\n",
      "Start of iteration 4\n",
      "Current loss value: 1426021500.0\n",
      "Image saved as ../images/style_transfer_result/at_iteration_4.png\n",
      "Iteration 4 completed in 105s\n",
      "Start of iteration 5\n",
      "Current loss value: 1185838800.0\n",
      "Image saved as ../images/style_transfer_result/at_iteration_5.png\n",
      "Iteration 5 completed in 108s\n",
      "Start of iteration 6\n",
      "Current loss value: 1045906300.0\n",
      "Image saved as ../images/style_transfer_result/at_iteration_6.png\n",
      "Iteration 6 completed in 108s\n",
      "Start of iteration 7\n",
      "Current loss value: 944813950.0\n",
      "Image saved as ../images/style_transfer_result/at_iteration_7.png\n",
      "Iteration 7 completed in 103s\n",
      "Start of iteration 8\n",
      "Current loss value: 870461700.0\n",
      "Image saved as ../images/style_transfer_result/at_iteration_8.png\n",
      "Iteration 8 completed in 101s\n",
      "Start of iteration 9\n",
      "Current loss value: 791144800.0\n",
      "Image saved as ../images/style_transfer_result/at_iteration_9.png\n",
      "Iteration 9 completed in 115s\n",
      "Start of iteration 10\n",
      "Current loss value: 734603700.0\n",
      "Image saved as ../images/style_transfer_result/at_iteration_10.png\n",
      "Iteration 10 completed in 97s\n",
      "Start of iteration 11\n",
      "Current loss value: 687032400.0\n",
      "Image saved as ../images/style_transfer_result/at_iteration_11.png\n",
      "Iteration 11 completed in 100s\n",
      "Start of iteration 12\n",
      "Current loss value: 652559500.0\n",
      "Image saved as ../images/style_transfer_result/at_iteration_12.png\n",
      "Iteration 12 completed in 103s\n",
      "Start of iteration 13\n",
      "Current loss value: 610666200.0\n",
      "Image saved as ../images/style_transfer_result/at_iteration_13.png\n",
      "Iteration 13 completed in 115s\n",
      "Start of iteration 14\n",
      "Current loss value: 578014000.0\n",
      "Image saved as ../images/style_transfer_result/at_iteration_14.png\n",
      "Iteration 14 completed in 113s\n",
      "Start of iteration 15\n",
      "Current loss value: 546271800.0\n",
      "Image saved as ../images/style_transfer_result/at_iteration_15.png\n",
      "Iteration 15 completed in 111s\n",
      "Start of iteration 16\n",
      "Current loss value: 522404770.0\n",
      "Image saved as ../images/style_transfer_result/at_iteration_16.png\n",
      "Iteration 16 completed in 108s\n",
      "Start of iteration 17\n",
      "Current loss value: 496004480.0\n",
      "Image saved as ../images/style_transfer_result/at_iteration_17.png\n",
      "Iteration 17 completed in 99s\n",
      "Start of iteration 18\n",
      "Current loss value: 476389060.0\n",
      "Image saved as ../images/style_transfer_result/at_iteration_18.png\n",
      "Iteration 18 completed in 105s\n",
      "Start of iteration 19\n",
      "Current loss value: 455953660.0\n",
      "Image saved as ../images/style_transfer_result/at_iteration_19.png\n",
      "Iteration 19 completed in 104s\n"
     ]
    }
   ],
   "source": [
    "result_prefix = '../images/style_transfer_result/'\n",
    "iterations = 20\n",
    "\n",
    "x=preprocess_image(target_image_path)\n",
    "print(x.shape)\n",
    "x=x.flatten()\n",
    "print(x.shape)\n",
    "for i in range(iterations):\n",
    "    print('Start of iteration', i)\n",
    "    start_time = time.time()\n",
    "    x, min_val, info = fmin_l_bfgs_b(evaluator.loss, x,\n",
    "                                     fprime=evaluator.grads, maxfun=20)\n",
    "    print('Current loss value:', min_val)\n",
    "    img = x.copy().reshape((img_height, img_width, 3))\n",
    "    img = deprocess_image(img)\n",
    "    fname = result_prefix + 'at_iteration_%d.png' % i\n",
    "    imageio.imwrite(fname, img)\n",
    "    end_time = time.time()\n",
    "    print('Image saved as', fname)\n",
    "    print('Iteration %d completed in %ds' % (i, end_time - start_time))"
   ],
   "metadata": {
    "collapsed": false,
    "pycharm": {
     "name": "#%%\n"
    }
   }
  }
 ],
 "metadata": {
  "kernelspec": {
   "name": "pycharm-5591207c",
   "language": "python",
   "display_name": "PyCharm (pythonProject)"
  },
  "language_info": {
   "codemirror_mode": {
    "name": "ipython",
    "version": 2
   },
   "file_extension": ".py",
   "mimetype": "text/x-python",
   "name": "python",
   "nbconvert_exporter": "python",
   "pygments_lexer": "ipython2",
   "version": "2.7.6"
  }
 },
 "nbformat": 4,
 "nbformat_minor": 0
}